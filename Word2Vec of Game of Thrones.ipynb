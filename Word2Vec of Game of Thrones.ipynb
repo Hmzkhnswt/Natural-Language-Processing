{
  "nbformat": 4,
  "nbformat_minor": 0,
  "metadata": {
    "colab": {
      "provenance": [],
      "gpuType": "T4",
      "authorship_tag": "ABX9TyO4jZ6c9qF7HYzdUj/mSAJ/",
      "include_colab_link": true
    },
    "kernelspec": {
      "name": "python3",
      "display_name": "Python 3"
    },
    "language_info": {
      "name": "python"
    },
    "accelerator": "GPU"
  },
  "cells": [
    {
      "cell_type": "markdown",
      "metadata": {
        "id": "view-in-github",
        "colab_type": "text"
      },
      "source": [
        "<a href=\"https://colab.research.google.com/github/Hmzkhnswt/Natural-Language-Processing/blob/main/Word2Vec%20of%20Game%20of%20Thrones.ipynb\" target=\"_parent\"><img src=\"https://colab.research.google.com/assets/colab-badge.svg\" alt=\"Open In Colab\"/></a>"
      ]
    },
    {
      "cell_type": "code",
      "execution_count": 1,
      "metadata": {
        "id": "um8dwyJV0VRq"
      },
      "outputs": [],
      "source": [
        "!mkdir -p ~/.kaggle\n",
        "!cp kaggle.json ~/.kaggle/"
      ]
    },
    {
      "cell_type": "code",
      "source": [
        "!kaggle datasets download -d khulasasndh/game-of-thrones-books"
      ],
      "metadata": {
        "colab": {
          "base_uri": "https://localhost:8080/"
        },
        "id": "H0NmP4KB0vsD",
        "outputId": "aaf89bfc-73ac-4b84-b674-111a87e64dc2"
      },
      "execution_count": 2,
      "outputs": [
        {
          "output_type": "stream",
          "name": "stdout",
          "text": [
            "Warning: Your Kaggle API key is readable by other users on this system! To fix this, you can run 'chmod 600 /root/.kaggle/kaggle.json'\n",
            "Downloading game-of-thrones-books.zip to /content\n",
            "  0% 0.00/3.71M [00:00<?, ?B/s]\n",
            "100% 3.71M/3.71M [00:00<00:00, 199MB/s]\n"
          ]
        }
      ]
    },
    {
      "cell_type": "code",
      "source": [
        "import zipfile\n",
        "content = zipfile.ZipFile(\"/content/game-of-thrones-books.zip\")\n",
        "content.extractall(\"/content\")\n",
        "\n"
      ],
      "metadata": {
        "id": "SQ-99aGf0ymz"
      },
      "execution_count": 3,
      "outputs": []
    },
    {
      "cell_type": "code",
      "source": [
        "import numpy as np\n",
        "import pandas as pd"
      ],
      "metadata": {
        "id": "YCnrUcVz1OSX"
      },
      "execution_count": 4,
      "outputs": []
    },
    {
      "cell_type": "code",
      "source": [
        "import gensim\n",
        "import os"
      ],
      "metadata": {
        "id": "y-bdsP1E1T_1"
      },
      "execution_count": 5,
      "outputs": []
    },
    {
      "cell_type": "code",
      "source": [
        "from nltk import sent_tokenize\n",
        "from gensim.utils import simple_preprocess\n",
        "\n",
        "story = []\n",
        "files = [\"/content/001ssb.txt\", \"/content/002ssb.txt\", \"/content/003ssb.txt\", \"/content/004ssb.txt\", \"/content/005ssb.txt\"]\n",
        "\n",
        "for filepath in files:\n",
        "    with open(filepath, 'r', encoding='latin-1') as file:\n",
        "        corpus = file.read()\n",
        "        raw_sents = sent_tokenize(corpus)\n",
        "        for sent in raw_sents:\n",
        "            story.append(simple_preprocess(sent))\n"
      ],
      "metadata": {
        "id": "t6J8El6H1Wi1"
      },
      "execution_count": 13,
      "outputs": []
    },
    {
      "cell_type": "code",
      "source": [
        "len(story)"
      ],
      "metadata": {
        "colab": {
          "base_uri": "https://localhost:8080/"
        },
        "id": "sf9nIOaN4DzV",
        "outputId": "71ccad2d-c8e0-4962-e85b-77155489bdb8"
      },
      "execution_count": 18,
      "outputs": [
        {
          "output_type": "execute_result",
          "data": {
            "text/plain": [
              "145020"
            ]
          },
          "metadata": {},
          "execution_count": 18
        }
      ]
    },
    {
      "cell_type": "code",
      "source": [
        "story[0]"
      ],
      "metadata": {
        "colab": {
          "base_uri": "https://localhost:8080/"
        },
        "id": "WD4eFB8_4gx0",
        "outputId": "0a43155a-9e34-4d58-d894-ff4c7e3686f6"
      },
      "execution_count": 21,
      "outputs": [
        {
          "output_type": "execute_result",
          "data": {
            "text/plain": [
              "['game',\n",
              " 'of',\n",
              " 'thrones',\n",
              " 'book',\n",
              " 'one',\n",
              " 'of',\n",
              " 'song',\n",
              " 'of',\n",
              " 'ice',\n",
              " 'and',\n",
              " 'fire',\n",
              " 'by',\n",
              " 'george',\n",
              " 'martin',\n",
              " 'prologue',\n",
              " 'we',\n",
              " 'should',\n",
              " 'start',\n",
              " 'back',\n",
              " 'gared',\n",
              " 'urged',\n",
              " 'as',\n",
              " 'the',\n",
              " 'woods',\n",
              " 'began',\n",
              " 'to',\n",
              " 'grow',\n",
              " 'dark',\n",
              " 'around',\n",
              " 'them']"
            ]
          },
          "metadata": {},
          "execution_count": 21
        }
      ]
    },
    {
      "cell_type": "code",
      "source": [
        "model = gensim.models.Word2Vec(\n",
        "    window=10,\n",
        "    min_count=2\n",
        ")"
      ],
      "metadata": {
        "id": "vyQkCnRJ4mkE"
      },
      "execution_count": 22,
      "outputs": []
    },
    {
      "cell_type": "code",
      "source": [
        "model.build_vocab(story)"
      ],
      "metadata": {
        "id": "c_TcwczB5TCU"
      },
      "execution_count": 24,
      "outputs": []
    },
    {
      "cell_type": "code",
      "source": [
        "model.corpus_count"
      ],
      "metadata": {
        "colab": {
          "base_uri": "https://localhost:8080/"
        },
        "id": "3dvXcJPR5t96",
        "outputId": "13e3f62f-d637-4511-917a-891495f3fbe6"
      },
      "execution_count": 25,
      "outputs": [
        {
          "output_type": "execute_result",
          "data": {
            "text/plain": [
              "145020"
            ]
          },
          "metadata": {},
          "execution_count": 25
        }
      ]
    },
    {
      "cell_type": "code",
      "source": [
        "model.corpus_total_words"
      ],
      "metadata": {
        "colab": {
          "base_uri": "https://localhost:8080/"
        },
        "id": "QtgGSMC-51Ry",
        "outputId": "6c649c9b-3133-4dde-ddd5-674b7a68abab"
      },
      "execution_count": 26,
      "outputs": [
        {
          "output_type": "execute_result",
          "data": {
            "text/plain": [
              "1725638"
            ]
          },
          "metadata": {},
          "execution_count": 26
        }
      ]
    },
    {
      "cell_type": "code",
      "source": [
        "model.epochs"
      ],
      "metadata": {
        "colab": {
          "base_uri": "https://localhost:8080/"
        },
        "id": "dUGWUJaH64rs",
        "outputId": "f805da8f-59f8-42ac-cc7e-4492daccd755"
      },
      "execution_count": 29,
      "outputs": [
        {
          "output_type": "execute_result",
          "data": {
            "text/plain": [
              "50"
            ]
          },
          "metadata": {},
          "execution_count": 29
        }
      ]
    },
    {
      "cell_type": "code",
      "source": [
        "model.train(story, total_examples=model.corpus_count, epochs=50)"
      ],
      "metadata": {
        "colab": {
          "base_uri": "https://localhost:8080/"
        },
        "id": "7aOknhhe5bL8",
        "outputId": "6d9e07e8-81d1-497c-c949-918b12e7e71c"
      },
      "execution_count": 30,
      "outputs": [
        {
          "output_type": "stream",
          "name": "stderr",
          "text": [
            "WARNING:gensim.models.word2vec:Effective 'alpha' higher than previous training cycles\n"
          ]
        },
        {
          "output_type": "execute_result",
          "data": {
            "text/plain": [
              "(131403965, 172563800)"
            ]
          },
          "metadata": {},
          "execution_count": 30
        }
      ]
    },
    {
      "cell_type": "code",
      "source": [
        "model.wv.most_similar('daenerys')"
      ],
      "metadata": {
        "colab": {
          "base_uri": "https://localhost:8080/"
        },
        "id": "BiTYaSvt6e6z",
        "outputId": "c06fde36-b60e-4f84-de4c-43c49e0abff3"
      },
      "execution_count": 31,
      "outputs": [
        {
          "output_type": "execute_result",
          "data": {
            "text/plain": [
              "[('dany', 0.44918230175971985),\n",
              " ('princeling', 0.4423998296260834),\n",
              " ('drogon', 0.43051284551620483),\n",
              " ('westeros', 0.4243300259113312),\n",
              " ('viserys', 0.42315590381622314),\n",
              " ('groleo', 0.40946346521377563),\n",
              " ('hizdahr', 0.40311846137046814),\n",
              " ('missandei', 0.3965770900249481),\n",
              " ('dragons', 0.395431250333786),\n",
              " ('arianne', 0.3947368562221527)]"
            ]
          },
          "metadata": {},
          "execution_count": 31
        }
      ]
    },
    {
      "cell_type": "code",
      "source": [
        "model.wv.doesnt_match(['jon','rikon','robb','arya','sansa','bran'])"
      ],
      "metadata": {
        "colab": {
          "base_uri": "https://localhost:8080/",
          "height": 54
        },
        "id": "4Pb48rTz6wj7",
        "outputId": "efa6c7ab-874a-4809-a716-f30b97edcda9"
      },
      "execution_count": 32,
      "outputs": [
        {
          "output_type": "stream",
          "name": "stderr",
          "text": [
            "WARNING:gensim.models.keyedvectors:vectors for words {'rikon'} are not present in the model, ignoring these words\n"
          ]
        },
        {
          "output_type": "execute_result",
          "data": {
            "text/plain": [
              "'robb'"
            ],
            "application/vnd.google.colaboratory.intrinsic+json": {
              "type": "string"
            }
          },
          "metadata": {},
          "execution_count": 32
        }
      ]
    },
    {
      "cell_type": "code",
      "source": [
        "model.wv['king']"
      ],
      "metadata": {
        "colab": {
          "base_uri": "https://localhost:8080/"
        },
        "id": "GYbx-W8O7Ld7",
        "outputId": "a1c8cf07-a589-445f-dc87-61655681ee05"
      },
      "execution_count": 33,
      "outputs": [
        {
          "output_type": "execute_result",
          "data": {
            "text/plain": [
              "array([ 4.076589  , -0.08692826,  0.40545362,  2.0709686 , -3.8087196 ,\n",
              "        2.4474542 ,  2.9901843 ,  0.49004441, -2.7742627 , -0.49105784,\n",
              "        5.0804505 , -2.5983772 ,  1.7601544 ,  3.102522  , -5.0654974 ,\n",
              "       -4.126031  ,  0.46209416,  3.313455  , -1.5726434 ,  0.43439883,\n",
              "       -0.5534807 , -2.3877304 ,  1.3004674 , -5.1560965 , -3.3650115 ,\n",
              "        2.6156924 , -3.2493982 , -1.2703495 ,  0.49551776, -2.8132994 ,\n",
              "       -5.0261617 , -1.9731646 , -1.5542228 , -1.072228  , -2.4974046 ,\n",
              "       -0.7914957 ,  0.4835184 , -1.9839468 ,  1.2783421 , -0.5212957 ,\n",
              "        0.00764533,  2.9078424 ,  1.6471119 , -0.7933798 ,  0.15769786,\n",
              "        1.1673648 ,  1.4685789 , -4.761177  ,  3.111318  , -2.2041817 ,\n",
              "       -1.8235843 , -2.2203767 ,  0.83839095, -3.782146  ,  2.3131666 ,\n",
              "       -4.102442  ,  2.2825606 , -0.23050536, -0.49824202,  3.1302726 ,\n",
              "       -0.7141841 ,  2.4395814 , -2.5002697 ,  4.0287704 ,  2.1053553 ,\n",
              "        3.3489192 , -2.1585171 , -4.6060495 , -1.7579752 , -3.1606917 ,\n",
              "       -3.9949281 , -1.8107766 ,  3.1562545 ,  1.279912  , -0.78471667,\n",
              "       -3.0759263 , -0.16060108, -3.3817558 ,  1.3927203 , -3.8189209 ,\n",
              "        1.7532146 ,  2.85193   ,  1.2106456 ,  1.2452514 ,  1.4062377 ,\n",
              "       -2.826187  , -2.587183  , -0.8965433 ,  3.9505801 ,  1.6234493 ,\n",
              "        0.62214255, -1.2165016 , -4.411356  , -5.9392414 ,  1.562558  ,\n",
              "       -3.0287294 , -2.3620288 ,  2.8303816 , -2.6232593 ,  1.280277  ],\n",
              "      dtype=float32)"
            ]
          },
          "metadata": {},
          "execution_count": 33
        }
      ]
    },
    {
      "cell_type": "code",
      "source": [
        "model.wv.similarity('arya','sansa')"
      ],
      "metadata": {
        "colab": {
          "base_uri": "https://localhost:8080/"
        },
        "id": "ePMFiUls7YoR",
        "outputId": "af69a606-f625-4694-c6e3-01cf26848abd"
      },
      "execution_count": 34,
      "outputs": [
        {
          "output_type": "execute_result",
          "data": {
            "text/plain": [
              "0.7929554"
            ]
          },
          "metadata": {},
          "execution_count": 34
        }
      ]
    }
  ]
}